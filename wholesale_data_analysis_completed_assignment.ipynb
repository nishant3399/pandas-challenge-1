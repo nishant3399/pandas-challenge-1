{
 "cells": [
  {
   "cell_type": "markdown",
   "id": "dc0318d6",
   "metadata": {},
   "source": [
    "## Part 1: Explore the Data\n",
    "\n",
    "Import the data and use Pandas to learn more about the dataset."
   ]
  },
  {
   "cell_type": "code",
   "execution_count": 1,
   "id": "e076f57f",
   "metadata": {},
   "outputs": [
    {
     "data": {
      "text/html": [
       "<div>\n",
       "<style scoped>\n",
       "    .dataframe tbody tr th:only-of-type {\n",
       "        vertical-align: middle;\n",
       "    }\n",
       "\n",
       "    .dataframe tbody tr th {\n",
       "        vertical-align: top;\n",
       "    }\n",
       "\n",
       "    .dataframe thead th {\n",
       "        text-align: right;\n",
       "    }\n",
       "</style>\n",
       "<table border=\"1\" class=\"dataframe\">\n",
       "  <thead>\n",
       "    <tr style=\"text-align: right;\">\n",
       "      <th></th>\n",
       "      <th>first</th>\n",
       "      <th>last</th>\n",
       "      <th>job</th>\n",
       "      <th>phone</th>\n",
       "      <th>email</th>\n",
       "      <th>client_id</th>\n",
       "      <th>order_id</th>\n",
       "      <th>order_date</th>\n",
       "      <th>order_week</th>\n",
       "      <th>order_year</th>\n",
       "      <th>item_id</th>\n",
       "      <th>category</th>\n",
       "      <th>subcategory</th>\n",
       "      <th>unit_price</th>\n",
       "      <th>unit_cost</th>\n",
       "      <th>unit_weight</th>\n",
       "      <th>qty</th>\n",
       "      <th>line_number</th>\n",
       "    </tr>\n",
       "  </thead>\n",
       "  <tbody>\n",
       "    <tr>\n",
       "      <th>0</th>\n",
       "      <td>Donald</td>\n",
       "      <td>Harding</td>\n",
       "      <td>Immunologist</td>\n",
       "      <td>793-904-7725x39308</td>\n",
       "      <td>harding.donald.7185@sullivan.com</td>\n",
       "      <td>58515</td>\n",
       "      <td>8953482</td>\n",
       "      <td>2023-04-28</td>\n",
       "      <td>17</td>\n",
       "      <td>2023</td>\n",
       "      <td>EUD29711-63-6U</td>\n",
       "      <td>decor</td>\n",
       "      <td>wall art</td>\n",
       "      <td>1096.80</td>\n",
       "      <td>762.71</td>\n",
       "      <td>7.50</td>\n",
       "      <td>105</td>\n",
       "      <td>1</td>\n",
       "    </tr>\n",
       "    <tr>\n",
       "      <th>1</th>\n",
       "      <td>Tiffany</td>\n",
       "      <td>Myers</td>\n",
       "      <td>Music therapist</td>\n",
       "      <td>201.442.4543x942</td>\n",
       "      <td>myers.t.6537@ferguson-johnson.net</td>\n",
       "      <td>37609</td>\n",
       "      <td>8069089</td>\n",
       "      <td>2023-05-19</td>\n",
       "      <td>20</td>\n",
       "      <td>2023</td>\n",
       "      <td>XDA18116-89-4A</td>\n",
       "      <td>consumables</td>\n",
       "      <td>pens</td>\n",
       "      <td>24.95</td>\n",
       "      <td>15.09</td>\n",
       "      <td>1.49</td>\n",
       "      <td>21</td>\n",
       "      <td>0</td>\n",
       "    </tr>\n",
       "    <tr>\n",
       "      <th>2</th>\n",
       "      <td>Shannon</td>\n",
       "      <td>Watson</td>\n",
       "      <td>Immunologist</td>\n",
       "      <td>687.737.9424x8503</td>\n",
       "      <td>swatson8146@payne.net</td>\n",
       "      <td>57113</td>\n",
       "      <td>1902144</td>\n",
       "      <td>2023-01-29</td>\n",
       "      <td>4</td>\n",
       "      <td>2023</td>\n",
       "      <td>ABE59463-05-7E</td>\n",
       "      <td>software</td>\n",
       "      <td>project management</td>\n",
       "      <td>13.52</td>\n",
       "      <td>7.86</td>\n",
       "      <td>1.68</td>\n",
       "      <td>39</td>\n",
       "      <td>6</td>\n",
       "    </tr>\n",
       "    <tr>\n",
       "      <th>3</th>\n",
       "      <td>Nathan</td>\n",
       "      <td>Baker</td>\n",
       "      <td>Accounting technician</td>\n",
       "      <td>827-788-8123x012</td>\n",
       "      <td>bakernathan@benson.com</td>\n",
       "      <td>46554</td>\n",
       "      <td>9031802</td>\n",
       "      <td>2023-04-25</td>\n",
       "      <td>17</td>\n",
       "      <td>2023</td>\n",
       "      <td>ZMM00836-65-0C</td>\n",
       "      <td>consumables</td>\n",
       "      <td>pens</td>\n",
       "      <td>36.42</td>\n",
       "      <td>24.85</td>\n",
       "      <td>1.23</td>\n",
       "      <td>29</td>\n",
       "      <td>3</td>\n",
       "    </tr>\n",
       "    <tr>\n",
       "      <th>4</th>\n",
       "      <td>Christina</td>\n",
       "      <td>Schwartz</td>\n",
       "      <td>Chiropractor</td>\n",
       "      <td>265-829-3643</td>\n",
       "      <td>christinaschwartz9252@mcconnell.com</td>\n",
       "      <td>92089</td>\n",
       "      <td>1322274</td>\n",
       "      <td>2023-05-28</td>\n",
       "      <td>21</td>\n",
       "      <td>2023</td>\n",
       "      <td>BZX55559-12-3X</td>\n",
       "      <td>consumables</td>\n",
       "      <td>misc</td>\n",
       "      <td>195.10</td>\n",
       "      <td>108.17</td>\n",
       "      <td>46.43</td>\n",
       "      <td>20</td>\n",
       "      <td>1</td>\n",
       "    </tr>\n",
       "  </tbody>\n",
       "</table>\n",
       "</div>"
      ],
      "text/plain": [
       "       first      last                    job               phone  \\\n",
       "0     Donald   Harding           Immunologist  793-904-7725x39308   \n",
       "1    Tiffany     Myers        Music therapist    201.442.4543x942   \n",
       "2    Shannon    Watson           Immunologist   687.737.9424x8503   \n",
       "3     Nathan     Baker  Accounting technician    827-788-8123x012   \n",
       "4  Christina  Schwartz           Chiropractor        265-829-3643   \n",
       "\n",
       "                                 email  client_id  order_id  order_date  \\\n",
       "0     harding.donald.7185@sullivan.com      58515   8953482  2023-04-28   \n",
       "1    myers.t.6537@ferguson-johnson.net      37609   8069089  2023-05-19   \n",
       "2                swatson8146@payne.net      57113   1902144  2023-01-29   \n",
       "3               bakernathan@benson.com      46554   9031802  2023-04-25   \n",
       "4  christinaschwartz9252@mcconnell.com      92089   1322274  2023-05-28   \n",
       "\n",
       "   order_week  order_year         item_id     category         subcategory  \\\n",
       "0          17        2023  EUD29711-63-6U        decor            wall art   \n",
       "1          20        2023  XDA18116-89-4A  consumables                pens   \n",
       "2           4        2023  ABE59463-05-7E     software  project management   \n",
       "3          17        2023  ZMM00836-65-0C  consumables                pens   \n",
       "4          21        2023  BZX55559-12-3X  consumables                misc   \n",
       "\n",
       "   unit_price  unit_cost  unit_weight  qty  line_number  \n",
       "0     1096.80     762.71         7.50  105            1  \n",
       "1       24.95      15.09         1.49   21            0  \n",
       "2       13.52       7.86         1.68   39            6  \n",
       "3       36.42      24.85         1.23   29            3  \n",
       "4      195.10     108.17        46.43   20            1  "
      ]
     },
     "execution_count": 1,
     "metadata": {},
     "output_type": "execute_result"
    }
   ],
   "source": [
    "import pandas as pd\n",
    "\n",
    "df = pd.read_csv('Resources/client_dataset.csv')\n",
    "df.head()"
   ]
  },
  {
   "cell_type": "code",
   "execution_count": 2,
   "id": "71b9bbd2",
   "metadata": {},
   "outputs": [
    {
     "name": "stdout",
     "output_type": "stream",
     "text": [
      "Column Names:\n",
      "Index(['first', 'last', 'job', 'phone', 'email', 'client_id', 'order_id',\n",
      "       'order_date', 'order_week', 'order_year', 'item_id', 'category',\n",
      "       'subcategory', 'unit_price', 'unit_cost', 'unit_weight', 'qty',\n",
      "       'line_number'],\n",
      "      dtype='object')\n"
     ]
    }
   ],
   "source": [
    "# View the column names in the data\n",
    "print(\"Column Names:\")\n",
    "print(df.columns)"
   ]
  },
  {
   "cell_type": "code",
   "execution_count": 3,
   "id": "bc0f4172",
   "metadata": {},
   "outputs": [
    {
     "name": "stdout",
     "output_type": "stream",
     "text": [
      "\n",
      "Basic Statistics:\n",
      "          client_id      order_id    order_week    order_year    unit_price  \\\n",
      "count  54639.000000  5.463900e+04  54639.000000  54639.000000  54639.000000   \n",
      "mean   54837.869416  5.470190e+06     11.359139   2022.993064    136.267207   \n",
      "std    25487.438231  2.599807e+06      7.023499      0.082997    183.873135   \n",
      "min    10033.000000  1.000886e+06      1.000000   2022.000000      0.010000   \n",
      "25%    33593.000000  3.196372e+06      6.000000   2023.000000     20.800000   \n",
      "50%    53305.000000  5.496966e+06     11.000000   2023.000000     68.310000   \n",
      "75%    78498.000000  7.733869e+06     17.000000   2023.000000    173.160000   \n",
      "max    99984.000000  9.998480e+06     52.000000   2023.000000   1396.230000   \n",
      "\n",
      "          unit_cost   unit_weight           qty   line_number  \n",
      "count  54639.000000  54639.000000  5.463900e+04  54639.000000  \n",
      "mean      99.446073      5.004116  5.702646e+02      2.979667  \n",
      "std      133.164267      5.326599  1.879552e+04      2.436320  \n",
      "min        0.010000      0.000000  0.000000e+00      0.000000  \n",
      "25%       14.840000      1.450000  3.200000e+01      1.000000  \n",
      "50%       49.890000      3.240000  6.800000e+01      3.000000  \n",
      "75%      125.570000      6.890000  1.700000e+02      5.000000  \n",
      "max      846.270000     46.430000  3.958244e+06      9.000000  \n"
     ]
    }
   ],
   "source": [
    "# Use the describe function to gather some basic statistics\n",
    "print(\"\\nBasic Statistics:\")\n",
    "print(df.describe())\n"
   ]
  },
  {
   "cell_type": "code",
   "execution_count": 6,
   "id": "b24b53cc",
   "metadata": {},
   "outputs": [
    {
     "data": {
      "text/plain": [
       "<bound method DataFrame.info of            first       last                      job               phone  \\\n",
       "0         Donald    Harding             Immunologist  793-904-7725x39308   \n",
       "1        Tiffany      Myers          Music therapist    201.442.4543x942   \n",
       "2        Shannon     Watson             Immunologist   687.737.9424x8503   \n",
       "3         Nathan      Baker    Accounting technician    827-788-8123x012   \n",
       "4      Christina   Schwartz             Chiropractor        265-829-3643   \n",
       "...          ...        ...                      ...                 ...   \n",
       "54634     Lauren      Reese           Radio producer  977.877.5272x11382   \n",
       "54635    Derrick      Moore                 Musician        358.661.5483   \n",
       "54636     Monica  Gutierrez         Graphic designer    294.805.9100x339   \n",
       "54637      Wanda    Solomon             Toxicologist       (311)767-4924   \n",
       "54638     Dwayne       Bell  Chief Financial Officer   606-619-7667x9508   \n",
       "\n",
       "                                     email  client_id  order_id  order_date  \\\n",
       "0         harding.donald.7185@sullivan.com      58515   8953482  2023-04-28   \n",
       "1        myers.t.6537@ferguson-johnson.net      37609   8069089  2023-05-19   \n",
       "2                    swatson8146@payne.net      57113   1902144  2023-01-29   \n",
       "3                   bakernathan@benson.com      46554   9031802  2023-04-25   \n",
       "4      christinaschwartz9252@mcconnell.com      92089   1322274  2023-05-28   \n",
       "...                                    ...        ...       ...         ...   \n",
       "54634   late_reese_4081@montoya-chavez.org      29043   9021716  2023-04-26   \n",
       "54635         derrick.moore.2602@pope.info      41908   6290153  2023-02-08   \n",
       "54636            gutierrezm3195@morris.org      35176   8692622  2023-03-05   \n",
       "54637            solomonwanda5962@ross.org      24485   7592730  2023-01-18   \n",
       "54638                     belld@galvan.com      24007   7489403  2023-01-04   \n",
       "\n",
       "       order_week  order_year         item_id     category  \\\n",
       "0              17        2023  EUD29711-63-6U        decor   \n",
       "1              20        2023  XDA18116-89-4A  consumables   \n",
       "2               4        2023  ABE59463-05-7E     software   \n",
       "3              17        2023  ZMM00836-65-0C  consumables   \n",
       "4              21        2023  BZX55559-12-3X  consumables   \n",
       "...           ...         ...             ...          ...   \n",
       "54634          17        2023  UCA28532-31-0B     software   \n",
       "54635           6        2023  EBD29277-23-7U  consumables   \n",
       "54636           9        2023  EBD30093-55-9Z  consumables   \n",
       "54637           3        2023  XMZ38239-49-3D    furniture   \n",
       "54638           1        2023  ZCZ05589-50-5D     software   \n",
       "\n",
       "              subcategory  unit_price  unit_cost  unit_weight   qty  \\\n",
       "0                wall art     1096.80     762.71         7.50   105   \n",
       "1                    pens       24.95      15.09         1.49    21   \n",
       "2      project management       13.52       7.86         1.68    39   \n",
       "3                    pens       36.42      24.85         1.23    29   \n",
       "4                    misc      195.10     108.17        46.43    20   \n",
       "...                   ...         ...        ...          ...   ...   \n",
       "54634           logistics       83.13      51.60         2.25    33   \n",
       "54635    kitchen supplies      206.59     175.46        11.70    47   \n",
       "54636   bathroom supplies       65.66      57.31         4.16   475   \n",
       "54637              stands        1.48       1.22        18.04   112   \n",
       "54638  project management        3.01       1.61         2.07  1031   \n",
       "\n",
       "       line_number  \n",
       "0                1  \n",
       "1                0  \n",
       "2                6  \n",
       "3                3  \n",
       "4                1  \n",
       "...            ...  \n",
       "54634            8  \n",
       "54635            0  \n",
       "54636            6  \n",
       "54637            0  \n",
       "54638            5  \n",
       "\n",
       "[54639 rows x 18 columns]>"
      ]
     },
     "execution_count": 6,
     "metadata": {},
     "output_type": "execute_result"
    }
   ],
   "source": [
    "# Use this space to do any additional research\n",
    "# and familiarize yourself with the data.\n",
    "df.info\n",
    "\n"
   ]
  },
  {
   "cell_type": "code",
   "execution_count": 7,
   "id": "551cb358",
   "metadata": {},
   "outputs": [
    {
     "name": "stdout",
     "output_type": "stream",
     "text": [
      "\n",
      "Top 3 Categories by Entries:\n",
      "category\n",
      "consumables    23538\n",
      "furniture      11915\n",
      "software        8400\n",
      "Name: count, dtype: int64\n"
     ]
    }
   ],
   "source": [
    "# What three item categories had the most entries?\n",
    "print(\"\\nTop 3 Categories by Entries:\")\n",
    "top_categories = df['category'].value_counts().head(3)\n",
    "print(top_categories)"
   ]
  },
  {
   "cell_type": "code",
   "execution_count": 9,
   "id": "5f54e2cf",
   "metadata": {},
   "outputs": [
    {
     "name": "stdout",
     "output_type": "stream",
     "text": [
      "\n",
      "Top Subcategory in 'consumables':\n",
      "bathroom supplies\n"
     ]
    }
   ],
   "source": [
    "# For the category with the most entries, which subcategory had the most entries?\n",
    "most_common_category = top_categories.index[0]\n",
    "top_subcategory = df[df['category'] == most_common_category]['subcategory'].value_counts().idxmax()\n",
    "print(f\"\\nTop Subcategory in '{most_common_category}':\")\n",
    "print(top_subcategory)\n"
   ]
  },
  {
   "cell_type": "code",
   "execution_count": 10,
   "id": "2db94379",
   "metadata": {},
   "outputs": [
    {
     "name": "stdout",
     "output_type": "stream",
     "text": [
      "\n",
      "Top 5 Clients by Entries:\n",
      "client_id\n",
      "33615    220\n",
      "66037    211\n",
      "46820    209\n",
      "38378    207\n",
      "24741    207\n",
      "Name: count, dtype: int64\n"
     ]
    }
   ],
   "source": [
    "# Which five clients had the most entries in the data?\n",
    "print(\"\\nTop 5 Clients by Entries:\")\n",
    "top_clients = df['client_id'].value_counts().head(5)\n",
    "print(top_clients)\n"
   ]
  },
  {
   "cell_type": "code",
   "execution_count": 11,
   "id": "a6635601",
   "metadata": {},
   "outputs": [
    {
     "name": "stdout",
     "output_type": "stream",
     "text": [
      "\n",
      "Top 5 Client IDs: [33615, 66037, 46820, 38378, 24741]\n"
     ]
    }
   ],
   "source": [
    "# Store the client ids of those top 5 clients in a list.\n",
    "top_client_ids = top_clients.index.tolist()\n",
    "print(f\"\\nTop 5 Client IDs: {top_client_ids}\")"
   ]
  },
  {
   "cell_type": "code",
   "execution_count": 12,
   "id": "c88b8a3e",
   "metadata": {},
   "outputs": [
    {
     "name": "stdout",
     "output_type": "stream",
     "text": [
      "\n",
      "Total Units Ordered by Client 33615: 64313\n"
     ]
    }
   ],
   "source": [
    "# How many total units (the qty column) did the client with the most entries order order?\n",
    "client_with_most_entries = top_clients.idxmax()\n",
    "total_units_most_entries = df[df['client_id'] == client_with_most_entries]['qty'].sum()\n",
    "print(f\"\\nTotal Units Ordered by Client {client_with_most_entries}: {total_units_most_entries}\")"
   ]
  },
  {
   "cell_type": "markdown",
   "id": "257fcd7d",
   "metadata": {},
   "source": [
    "## Part 2: Transform the Data\n",
    "Do we know that this client spent the more money than client 66037? If not, how would we find out? Transform the data using the steps below to prepare it for analysis."
   ]
  },
  {
   "cell_type": "code",
   "execution_count": 14,
   "id": "0c25c4a8",
   "metadata": {},
   "outputs": [
    {
     "name": "stdout",
     "output_type": "stream",
     "text": [
      "Line Subtotal (first 5 rows):\n",
      "   unit_price  qty  line_subtotal\n",
      "0     1096.80  105      115164.00\n",
      "1       24.95   21         523.95\n",
      "2       13.52   39         527.28\n",
      "3       36.42   29        1056.18\n",
      "4      195.10   20        3902.00\n"
     ]
    }
   ],
   "source": [
    "# Create a column that calculates the subtotal for each line using the unit_price and the qty\n",
    "df['line_subtotal'] = df['unit_price'] * df['qty']\n",
    "print(\"Line Subtotal (first 5 rows):\")\n",
    "print(df[['unit_price', 'qty', 'line_subtotal']].head())"
   ]
  },
  {
   "cell_type": "code",
   "execution_count": 15,
   "id": "ac9dafc8",
   "metadata": {},
   "outputs": [
    {
     "name": "stdout",
     "output_type": "stream",
     "text": [
      "\n",
      "Shipping Price (first 5 rows):\n",
      "   unit_price  unit_weight  qty  total_weight  shipping_price\n",
      "0     1096.80         7.50  105        787.50         5512.50\n",
      "1       24.95         1.49   21         31.29          312.90\n",
      "2       13.52         1.68   39         65.52          458.64\n",
      "3       36.42         1.23   29         35.67          356.70\n",
      "4      195.10        46.43   20        928.60         6500.20\n"
     ]
    }
   ],
   "source": [
    "# Create a column for shipping price.\n",
    "# Assume a shipping price of $7 per pound for orders over 50 pounds and $10 per pound for items 50 pounds or under.\n",
    "df['total_weight'] = df['unit_weight'] * df['qty']\n",
    "df['shipping_price'] = df['total_weight'].apply(lambda x: 7*x if x > 50 else 10*x)\n",
    "print(\"\\nShipping Price (first 5 rows):\")\n",
    "print(df[['unit_price', 'unit_weight', 'qty', 'total_weight', 'shipping_price']].head())\n"
   ]
  },
  {
   "cell_type": "code",
   "execution_count": 16,
   "id": "77f42c67",
   "metadata": {},
   "outputs": [
    {
     "name": "stdout",
     "output_type": "stream",
     "text": [
      "\n",
      "Line Price (first 5 rows):\n",
      "   line_subtotal  shipping_price     line_price\n",
      "0      115164.00         5512.50  131839.076250\n",
      "1         523.95          312.90     914.258625\n",
      "2         527.28          458.64    1077.117600\n",
      "3        1056.18          356.70    1543.571400\n",
      "4        3902.00         6500.20   11364.403500\n"
     ]
    }
   ],
   "source": [
    "# Create a column for the total price using the subtotal and the shipping price along with a sales tax of 9.25%\n",
    "df['line_price'] = (df['line_subtotal'] + df['shipping_price']) * 1.0925\n",
    "print(\"\\nLine Price (first 5 rows):\")\n",
    "print(df[['line_subtotal', 'shipping_price', 'line_price']].head())\n"
   ]
  },
  {
   "cell_type": "code",
   "execution_count": 17,
   "id": "c82ad275",
   "metadata": {},
   "outputs": [
    {
     "name": "stdout",
     "output_type": "stream",
     "text": [
      "\n",
      "Line Cost (first 5 rows):\n",
      "   unit_cost  qty  shipping_price  line_cost\n",
      "0     762.71  105         5512.50   85597.05\n",
      "1      15.09   21          312.90     629.79\n",
      "2       7.86   39          458.64     765.18\n",
      "3      24.85   29          356.70    1077.35\n",
      "4     108.17   20         6500.20    8663.60\n"
     ]
    }
   ],
   "source": [
    "# Create a column for the cost of each line using unit cost, qty, and\n",
    "# shipping price (assume the shipping cost is exactly what is charged to the client).\n",
    "df['line_cost'] = (df['unit_cost'] * df['qty']) + df['shipping_price']\n",
    "print(\"\\nLine Cost (first 5 rows):\")\n",
    "print(df[['unit_cost', 'qty', 'shipping_price', 'line_cost']].head())\n"
   ]
  },
  {
   "cell_type": "code",
   "execution_count": 18,
   "id": "e2389018",
   "metadata": {},
   "outputs": [
    {
     "name": "stdout",
     "output_type": "stream",
     "text": [
      "\n",
      "Line Profit (first 5 rows):\n",
      "      line_price  line_cost   line_profit\n",
      "0  131839.076250   85597.05  46242.026250\n",
      "1     914.258625     629.79    284.468625\n",
      "2    1077.117600     765.18    311.937600\n",
      "3    1543.571400    1077.35    466.221400\n",
      "4   11364.403500    8663.60   2700.803500\n"
     ]
    }
   ],
   "source": [
    "# Create a column for the profit of each line using line cost and line price\n",
    "df['line_profit'] = df['line_price'] - df['line_cost']\n",
    "print(\"\\nLine Profit (first 5 rows):\")\n",
    "print(df[['line_price', 'line_cost', 'line_profit']].head())\n"
   ]
  },
  {
   "cell_type": "markdown",
   "id": "ef6f62b1",
   "metadata": {},
   "source": [
    "## Part 3: Confirm your work\n",
    "You have email receipts showing that the total prices for 3 orders. Confirm that your calculations match the receipts. Remember, each order has multiple lines.\n",
    "\n",
    "Order ID 2742071 had a total price of \\$152,811.89\n",
    "\n",
    "Order ID 2173913 had a total price of \\$162,388.71\n",
    "\n",
    "Order ID 6128929 had a total price of \\$923,441.25\n"
   ]
  },
  {
   "cell_type": "code",
   "execution_count": 20,
   "id": "c0e5d68e",
   "metadata": {},
   "outputs": [
    {
     "name": "stdout",
     "output_type": "stream",
     "text": [
      "Order 2742071 Total: $152811.90\n",
      "Order 2173913 Total: $162388.72\n",
      "Order 6128929 Total: $923441.24\n"
     ]
    }
   ],
   "source": [
    "# Check your work using the totals above\n",
    "# Confirm that Order ID 2742071 had a total price of $152,811.89\n",
    "order_2742071_total = df[df['order_id'] == 2742071]['line_price'].sum()\n",
    "print(f\"Order 2742071 Total: ${order_2742071_total:.2f}\")\n",
    "\n",
    "# Confirm that Order ID 2173913 had a total price of $162,388.71\n",
    "order_2173913_total = df[df['order_id'] == 2173913]['line_price'].sum()\n",
    "print(f\"Order 2173913 Total: ${order_2173913_total:.2f}\")\n",
    "\n",
    "# Confirm that Order ID 6128929 had a total price of $923,441.25\n",
    "order_6128929_total = df[df['order_id'] == 6128929]['line_price'].sum()\n",
    "print(f\"Order 6128929 Total: ${order_6128929_total:.2f}\")"
   ]
  },
  {
   "cell_type": "markdown",
   "id": "b94d58ab",
   "metadata": {},
   "source": [
    "## Part 4: Summarize and Analyze\n",
    "Use the new columns with confirmed values to find the following information."
   ]
  },
  {
   "cell_type": "code",
   "execution_count": 23,
   "id": "7c005f34",
   "metadata": {},
   "outputs": [
    {
     "name": "stdout",
     "output_type": "stream",
     "text": [
      "Client Summary (before formatting):\n",
      "           total_units  total_shipping  total_revenue  total_profit\n",
      "client_id                                                          \n",
      "24741           239862      5126448.37   8.226889e+07  3.657999e+07\n",
      "33615            64313      1828984.89   8.377309e+06  2.201995e+06\n",
      "38378            73667      3429455.40   1.290655e+07  3.271830e+06\n",
      "46820            75768      1601448.84   9.743794e+06  2.736603e+06\n",
      "66037            43018      1395151.85   1.025951e+07  3.255032e+06\n"
     ]
    }
   ],
   "source": [
    "# How much did each of the top 5 clients by quantity spend? Check your work from Part 1 for client ids.\n",
    "client_summary = df[df['client_id'].isin(top_client_ids)].groupby('client_id').agg(\n",
    "    total_units=('qty', 'sum'),\n",
    "    total_shipping=('shipping_price', 'sum'),\n",
    "    total_revenue=('line_price', 'sum'),\n",
    "    total_profit=('line_profit', 'sum')\n",
    ")\n",
    "\n",
    "# Display the summary DataFrame\n",
    "print(\"Client Summary (before formatting):\")\n",
    "print(client_summary)\n"
   ]
  },
  {
   "cell_type": "code",
   "execution_count": 24,
   "id": "81b6e4d2",
   "metadata": {},
   "outputs": [],
   "source": [
    "# Create a summary DataFrame showing the totals for the for the top 5 clients with the following information:\n",
    "# total units purchased, total shipping price, total revenue, and total profit. \n",
    "def currency_format_millions(x):\n",
    "    return f\"${x/1e6:.2f}M\"\n"
   ]
  },
  {
   "cell_type": "code",
   "execution_count": 25,
   "id": "7be02867",
   "metadata": {},
   "outputs": [
    {
     "name": "stdout",
     "output_type": "stream",
     "text": [
      "\n",
      "Formatted Client Summary:\n",
      "           Total Units Shipping (Millions) Total Revenue (Millions)  \\\n",
      "client_id                                                             \n",
      "24741           239862              $5.13M                  $82.27M   \n",
      "33615            64313              $1.83M                   $8.38M   \n",
      "38378            73667              $3.43M                  $12.91M   \n",
      "46820            75768              $1.60M                   $9.74M   \n",
      "66037            43018              $1.40M                  $10.26M   \n",
      "\n",
      "          Total Profit (Millions)  \n",
      "client_id                          \n",
      "24741                     $36.58M  \n",
      "33615                      $2.20M  \n",
      "38378                      $3.27M  \n",
      "46820                      $2.74M  \n",
      "66037                      $3.26M  \n"
     ]
    }
   ],
   "source": [
    "# Format the data and rename the columns to names suitable for presentation.\n",
    "\n",
    "# Define the money columns. \n",
    "money_columns = ['total_shipping', 'total_revenue', 'total_profit']\n",
    "\n",
    "# Define a function that converts a dollar amount to millions.\n",
    "def currency_format_millions(x):\n",
    "    return f\"${x/1e6:.2f}M\"\n",
    "\n",
    "\n",
    "# Apply the currency_format_millions function to only the money columns. \n",
    "for col in money_columns:\n",
    "    client_summary[col] = client_summary[col].apply(currency_format_millions)\n",
    "\n",
    "# Rename the columns to reflect the change in the money format. \n",
    "client_summary.columns = ['Total Units', 'Shipping (Millions)', 'Total Revenue (Millions)', 'Total Profit (Millions)']\n",
    "\n",
    "# Display the formatted DataFrame\n",
    "print(\"\\nFormatted Client Summary:\")\n",
    "print(client_summary)\n",
    "\n"
   ]
  },
  {
   "cell_type": "code",
   "execution_count": 26,
   "id": "8ead0986",
   "metadata": {},
   "outputs": [
    {
     "name": "stdout",
     "output_type": "stream",
     "text": [
      "\n",
      "Sorted Client Summary by Total Profit:\n",
      "           Total Units Shipping (Millions) Total Revenue (Millions)  \\\n",
      "client_id                                                             \n",
      "24741           239862              $5.13M                  $82.27M   \n",
      "38378            73667              $3.43M                  $12.91M   \n",
      "66037            43018              $1.40M                  $10.26M   \n",
      "46820            75768              $1.60M                   $9.74M   \n",
      "33615            64313              $1.83M                   $8.38M   \n",
      "\n",
      "          Total Profit (Millions)  \n",
      "client_id                          \n",
      "24741                     $36.58M  \n",
      "38378                      $3.27M  \n",
      "66037                      $3.26M  \n",
      "46820                      $2.74M  \n",
      "33615                      $2.20M  \n"
     ]
    }
   ],
   "source": [
    "# Sort the updated data by \"Total Profit (millions)\" form highest to lowest and assign the sort to a new DatFrame.\n",
    "client_summary_sorted = client_summary.sort_values(by='Total Profit (Millions)', ascending=False)\n",
    "\n",
    "# Display the sorted DataFrame\n",
    "print(\"\\nSorted Client Summary by Total Profit:\")\n",
    "print(client_summary_sorted)"
   ]
  },
  {
   "cell_type": "code",
   "execution_count": null,
   "id": "87e0e7f8-b60e-4e50-ab07-c36b6deed513",
   "metadata": {},
   "outputs": [],
   "source": []
  }
 ],
 "metadata": {
  "kernelspec": {
   "display_name": "Python 3 (ipykernel)",
   "language": "python",
   "name": "python3"
  },
  "language_info": {
   "codemirror_mode": {
    "name": "ipython",
    "version": 3
   },
   "file_extension": ".py",
   "mimetype": "text/x-python",
   "name": "python",
   "nbconvert_exporter": "python",
   "pygments_lexer": "ipython3",
   "version": "3.11.7"
  }
 },
 "nbformat": 4,
 "nbformat_minor": 5
}
